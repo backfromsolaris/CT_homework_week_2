{
 "cells": [
  {
   "cell_type": "markdown",
   "metadata": {},
   "source": [
    "# Object-Oriented-Programming (OOP)"
   ]
  },
  {
   "cell_type": "markdown",
   "metadata": {},
   "source": [
    "## Tasks Today:\n",
    "\n",
    "   \n",
    "\n",
    "1) <b>Creating a Class (Initializing/Declaring)</b> <br>\n",
    "2) <b>Using a Class (Instantiating)</b> <br>\n",
    " &nbsp;&nbsp;&nbsp;&nbsp; a) Creating One Instance <br>\n",
    " &nbsp;&nbsp;&nbsp;&nbsp; b) Creating Multiple Instances <br>\n",
    " &nbsp;&nbsp;&nbsp;&nbsp; c) In-Class Exercise #1 - Create a Class 'Car' and instantiate three different makes of cars <br>\n",
    "3) <b>The \\__init\\__() Method</b> <br>\n",
    " &nbsp;&nbsp;&nbsp;&nbsp; a) The 'self' Attribute <br>\n",
    "4) <b>Class Attributes</b> <br>\n",
    " &nbsp;&nbsp;&nbsp;&nbsp; a) Initializing Attributes <br>\n",
    " &nbsp;&nbsp;&nbsp;&nbsp; b) Setting an Attribute Outside of the \\__init\\__() Method <br>\n",
    " &nbsp;&nbsp;&nbsp;&nbsp; c) Setting Defaults for Attributes <br>\n",
    " &nbsp;&nbsp;&nbsp;&nbsp; d) Accessing Class Attributes <br>\n",
    " &nbsp;&nbsp;&nbsp;&nbsp; e) Changing Class Attributes <br>\n",
    " &nbsp;&nbsp;&nbsp;&nbsp; f) In-Class Exercise #2 - Add a color and wheels attribute to your 'Car' class <br>\n",
    "5) <b>Class Methods</b> <br>\n",
    " &nbsp;&nbsp;&nbsp;&nbsp; a) Creating <br>\n",
    " &nbsp;&nbsp;&nbsp;&nbsp; b) Calling <br>\n",
    " &nbsp;&nbsp;&nbsp;&nbsp; c) Modifying an Attribute's Value Through a Method <br>\n",
    " &nbsp;&nbsp;&nbsp;&nbsp; d) Incrementing an Attribute's Value Through a Method <br>\n",
    " &nbsp;&nbsp;&nbsp;&nbsp; e) In-Class Exercise #3 - Add a method that prints the cars color and wheel number, then call them <br>\n",
    "6) <b>Inheritance</b> <br>\n",
    " &nbsp;&nbsp;&nbsp;&nbsp; a) Syntax for Inheriting from a Parent Class <br>\n",
    " &nbsp;&nbsp;&nbsp;&nbsp; b) The \\__init\\__() Method for a Child Class (super()) <br>\n",
    " &nbsp;&nbsp;&nbsp;&nbsp; c) Defining Attributes and Methods for the Child Class <br>\n",
    " &nbsp;&nbsp;&nbsp;&nbsp; d) Method Overriding <br>\n",
    " &nbsp;&nbsp;&nbsp;&nbsp; e) In-Class Exercise #4 - Create a class 'Ford' that inherits from 'Car' class and initialize it as a Blue Ford Explorer with 4 wheels using the super() method <br>\n",
    "7) <b>Classes as Attributes</b> <br>\n",
    "8) <b>Exercises</b> <br>\n",
    " &nbsp;&nbsp;&nbsp;&nbsp; a) Exercise #1 - Turn the shopping cart program from yesterday into an object-oriented program <br>"
   ]
  },
  {
   "cell_type": "code",
   "execution_count": 1,
   "metadata": {},
   "outputs": [],
   "source": [
    "# In Class Shopping Cart example"
   ]
  },
  {
   "cell_type": "code",
   "execution_count": 7,
   "metadata": {},
   "outputs": [
    {
     "name": "stdout",
     "output_type": "stream",
     "text": [
      "What would you like to do? Add / remove / show / clear your cart: show\n",
      "Here is your cart...\n",
      "apple\n",
      "banana\n",
      "apple\n",
      "What would you like to do? Add / remove / show / clear your cart: quit\n",
      "Thanks for shopping with us!\n",
      "Here is your cart...\n",
      "apple\n",
      "banana\n",
      "apple\n"
     ]
    }
   ],
   "source": [
    "from IPython.display import clear_output\n",
    "\n",
    "cart = []\n",
    "\n",
    "# Adding Item to cart\n",
    "\n",
    "def addItem(item):\n",
    "    clear_output()\n",
    "    cart.append(item)\n",
    "\n",
    "\n",
    "# Remove from cart\n",
    "def removeItem(item):\n",
    "    clear_output\n",
    "    cart.remove(item)\n",
    "    \n",
    "\n",
    "# Show Cart\n",
    "def showCart():\n",
    "    print(\"Here is your cart...\")\n",
    "    for item in cart:\n",
    "        print(item)\n",
    "        \n",
    "\n",
    "# Clear Cart\n",
    "def clearCart():\n",
    "    print(\"Your cart is now empty...\")\n",
    "    \n",
    "\n",
    "    \n",
    "# Program utilizing pre-built functionality\n",
    "def shoppingCart():\n",
    "    while True:\n",
    "        response = input(\"What would you like to do? Add / remove / show / clear your cart: \")\n",
    "        if response.lower() == 'quit':\n",
    "            print(\"Thanks for shopping with us!\")\n",
    "            showCart()\n",
    "            break\n",
    "        elif response.lower() == \"add\":\n",
    "            item_resp = input(\"What would you like to add?\")\n",
    "            addItem(item_resp)\n",
    "        elif response.lower() == \"remove\":\n",
    "            showCart()\n",
    "            remove_resp = input(\"What do you want to remove?\")\n",
    "            removeItem(remove_resp)\n",
    "        elif response.lower() == \"show\":\n",
    "            showCart()\n",
    "        elif response.lower() == \"clear\":\n",
    "            clearCart()\n",
    "        else:\n",
    "            print(\"Sorry, not a valid response...\")\n",
    "shoppingCart()\n",
    "            "
   ]
  },
  {
   "cell_type": "markdown",
   "metadata": {},
   "source": [
    "## Creating a Class (Initializing/Declaring)\n",
    "<p>When creating a class, function, or even a variable you are initializing that object. Initializing and Declaring occur at the same time in Python, whereas in lower level languages you have to declare an object before initializing it. This is the first step in the process of using a class.</p>"
   ]
  },
  {
   "cell_type": "code",
   "execution_count": 12,
   "metadata": {},
   "outputs": [],
   "source": [
    "# class Car: OR class Car()\n",
    "class Car():\n",
    "    wheels = 4\n",
    "    color = 'blue'"
   ]
  },
  {
   "cell_type": "markdown",
   "metadata": {},
   "source": [
    "## Using a Class (Instantiating)\n",
    "<p>The process of creating a class is called <i>Instantiating</i>. Each time you create a variable of that type of class, it is referred to as an <i>Instance</i> of that class. This is the second step in the process of using a class.</p>"
   ]
  },
  {
   "cell_type": "markdown",
   "metadata": {},
   "source": [
    "##### Creating One Instance"
   ]
  },
  {
   "cell_type": "code",
   "execution_count": 14,
   "metadata": {},
   "outputs": [
    {
     "name": "stdout",
     "output_type": "stream",
     "text": [
      "<__main__.Car object at 0x000001FE7112A1F0>\n",
      "4\n",
      "blue\n"
     ]
    }
   ],
   "source": [
    "ford = Car()\n",
    "print(ford)\n",
    "\n",
    "print(ford.wheels)\n",
    "print(ford.color)"
   ]
  },
  {
   "cell_type": "markdown",
   "metadata": {},
   "source": [
    "##### Creating Multiple Instances"
   ]
  },
  {
   "cell_type": "code",
   "execution_count": 16,
   "metadata": {},
   "outputs": [
    {
     "name": "stdout",
     "output_type": "stream",
     "text": [
      "4\n",
      "blue\n"
     ]
    }
   ],
   "source": [
    "chevy = Car()\n",
    "honda = Car()\n",
    "lambo = Car()\n",
    "\n",
    "print(lambo.wheels)\n",
    "print(chevy.color)"
   ]
  },
  {
   "cell_type": "markdown",
   "metadata": {},
   "source": [
    "##### In-Class Exercise #1 - Create a Class 'Car' and Instantiate three different makes of cars"
   ]
  },
  {
   "cell_type": "code",
   "execution_count": 23,
   "metadata": {},
   "outputs": [
    {
     "name": "stdout",
     "output_type": "stream",
     "text": [
      "20inch\n",
      "red\n",
      "True\n"
     ]
    }
   ],
   "source": [
    "class Car():\n",
    "    doors = 4\n",
    "    color = \"red\"\n",
    "    wheels = \"20inch\"\n",
    "    sunroof = True\n",
    "        \n",
    "mazda = Car()\n",
    "subaru = Car()\n",
    "dodge = Car()\n",
    "\n",
    "print(mazda.wheels)\n",
    "print(subaru.color)\n",
    "print(dodge.sunroof)"
   ]
  },
  {
   "cell_type": "markdown",
   "metadata": {},
   "source": [
    "## The \\__init\\__() Method <br>\n",
    "<p>This method is used in almost every created class, and called only once upon the creation of the class instance. This method will initialize all variables needed for the object.</p>"
   ]
  },
  {
   "cell_type": "code",
   "execution_count": 31,
   "metadata": {},
   "outputs": [
    {
     "name": "stdout",
     "output_type": "stream",
     "text": [
      "1\n",
      "18\n",
      "{'rooftop': 3, 'horn': 3, 'wheels': 18}\n"
     ]
    }
   ],
   "source": [
    "# 'dunder' or double underscore, init, double underscore ( __init__() )\n",
    "\n",
    "class Toy:\n",
    "    kind = \"Car\"\n",
    "    \n",
    "    def __init__(self, rooftop, horn, wheels):\n",
    "        self.rooftop = rooftop\n",
    "        self.horn = horn\n",
    "        self.wheels = wheels\n",
    "        \n",
    "hotwheels = Toy(1, 1, 4)\n",
    "tonka = Toy(3, 3, 18)\n",
    "\n",
    "print(hotwheels.rooftop)\n",
    "print(tonka.wheels)\n",
    "print(tonka.__dict__)\n"
   ]
  },
  {
   "cell_type": "markdown",
   "metadata": {},
   "source": [
    "##### The 'self' Attribute <br>\n",
    "<p>This attribute is required to keep track of specific instance's attributes. Without the self attribute, the program would not know how to reference or keep track of an instance's attributes.</p>"
   ]
  },
  {
   "cell_type": "code",
   "execution_count": null,
   "metadata": {},
   "outputs": [],
   "source": [
    "# see above"
   ]
  },
  {
   "cell_type": "markdown",
   "metadata": {},
   "source": [
    "## Class Attributes <br>\n",
    "<p>While variables are inside of a class, they are referred to as attributes and not variables. When someone says 'attribute' you know they're speaking about a class. Attributes can be initialized through the init method, or outside of it.</p>"
   ]
  },
  {
   "cell_type": "markdown",
   "metadata": {},
   "source": [
    "##### Initializing Attributes"
   ]
  },
  {
   "cell_type": "code",
   "execution_count": null,
   "metadata": {},
   "outputs": [],
   "source": [
    "# see above"
   ]
  },
  {
   "cell_type": "markdown",
   "metadata": {},
   "source": [
    "##### Accessing Class Attributes"
   ]
  },
  {
   "cell_type": "code",
   "execution_count": null,
   "metadata": {
    "scrolled": true
   },
   "outputs": [],
   "source": [
    "tonka = Toy(1,1,4)\n",
    "\n",
    "tonka.rooftop\n",
    "tonka.wheels"
   ]
  },
  {
   "cell_type": "markdown",
   "metadata": {},
   "source": [
    "##### Setting Defaults for Attributes"
   ]
  },
  {
   "cell_type": "code",
   "execution_count": 41,
   "metadata": {},
   "outputs": [
    {
     "data": {
      "text/plain": [
       "'Black'"
      ]
     },
     "execution_count": 41,
     "metadata": {},
     "output_type": "execute_result"
    }
   ],
   "source": [
    "class Human:\n",
    "    def __init__(self, eyes, height, activity, hair=\"Brown\"):\n",
    "        self.eyes = eyes\n",
    "        self.height = height\n",
    "        self.activity = activity\n",
    "        self.hair = hair\n",
    "\n",
    "nate = Human(\"blue\", \"6ft1in\", True)\n",
    "\n",
    "julia = Human(\"brown\", \"5ft10in\", True, \"Black\")\n",
    "\n",
    "julia.hair"
   ]
  },
  {
   "cell_type": "markdown",
   "metadata": {},
   "source": [
    "##### Changing Class Attributes <br>\n",
    "<p>Keep in mind there are global class attributes and then there are attributes only available to each class instance which won't effect other classes.</p>"
   ]
  },
  {
   "cell_type": "code",
   "execution_count": 42,
   "metadata": {},
   "outputs": [
    {
     "name": "stdout",
     "output_type": "stream",
     "text": [
      "BEFORE attribute change: Black\n",
      "AFTER attribute change: Blonde\n"
     ]
    }
   ],
   "source": [
    "# Changing the attribute\n",
    "\n",
    "print(f\"BEFORE attribute change: {julia.hair}\")\n",
    "\n",
    "julia.hair = \"Blonde\"\n",
    "\n",
    "print(f\"AFTER attribute change: {julia.hair}\")"
   ]
  },
  {
   "cell_type": "code",
   "execution_count": null,
   "metadata": {},
   "outputs": [],
   "source": []
  },
  {
   "cell_type": "markdown",
   "metadata": {},
   "source": [
    "##### In-Class Exercise #2 - Add a doors and seats attribute to your 'Car' class then print out two different instances with different doors and seats"
   ]
  },
  {
   "cell_type": "code",
   "execution_count": 46,
   "metadata": {},
   "outputs": [
    {
     "name": "stdout",
     "output_type": "stream",
     "text": [
      "Jeep has 2 doors.\n",
      "Lambo has 2 doors.\n",
      "Jeep has 4 seats.\n",
      "Lambo has 2 seats.\n"
     ]
    }
   ],
   "source": [
    "# jeep - 2 doors 4 seats, and lambo - 2 doors 2 seats\n",
    "class Car:\n",
    "    def __init__(self, doors, seats):\n",
    "        self.doors = doors\n",
    "        self.seats = seats\n",
    "\n",
    "jeep = Car(2, 4)\n",
    "lambo = Car(2, 2)\n",
    "\n",
    "print(f\"Jeep has {jeep.doors} doors.\")\n",
    "print(f\"Lambo has {lambo.doors} doors.\")\n",
    "print(f\"Jeep has {jeep.seats} seats.\")\n",
    "print(f\"Lambo has {lambo.seats} seats.\")"
   ]
  },
  {
   "cell_type": "markdown",
   "metadata": {},
   "source": [
    "## Class Methods <br>\n",
    "<p>While inside of a class, functions are referred to as 'methods'. If you hear someone mention methods, they're speaking about classes. Methods are essentially functions, but only callable on the instances of a class.</p>"
   ]
  },
  {
   "cell_type": "markdown",
   "metadata": {},
   "source": [
    "##### Creating"
   ]
  },
  {
   "cell_type": "code",
   "execution_count": 57,
   "metadata": {},
   "outputs": [
    {
     "name": "stdout",
     "output_type": "stream",
     "text": [
      "Your current bag capacity is: 35\n"
     ]
    }
   ],
   "source": [
    "class ShoppingBag:\n",
    "    \"\"\"\n",
    "        The ShoppingBag Class will have handles, capacity, and items\n",
    "        to place inside.\n",
    "    \n",
    "        Attributes for class:\n",
    "        - handles: expected to be an integer\n",
    "        - capacity: expected to be a string or integer\n",
    "        - items: expected to be a list\n",
    "    \"\"\"\n",
    "    def __init__(self, handles, capacity, items):\n",
    "        self.handles = handles\n",
    "        self.capacity = capacity\n",
    "        self.items = items\n",
    "        \n",
    "    # Method to show all items in items list\n",
    "    def showShoppingBag(self):\n",
    "        print(\"Here are the items in your bag...\")\n",
    "        for item in self.items:\n",
    "            print(item)\n",
    "\n",
    "    # Method to show capacity\n",
    "    def showCapacity(self):\n",
    "        print(f\"Your current bag capacity is: {self.capacity}\")\n",
    "        \n",
    "    # Method to add items to bag\n",
    "    def addToShoppingBag(self):\n",
    "        product = input(\"What would you like to add? \")\n",
    "        self.items.append(product)\n",
    "        print(f\"Success!  Here is your new bag: {self.items}\")\n",
    "            \n",
    "    # change capacity dynamically\n",
    "    def changeCapacity(self, capacity):\n",
    "        self.capacity = capacity\n",
    "    \n",
    "    # increase capacity\n",
    "    def increaseCapacity(self, changed_cap = 10):\n",
    "        if isinstance(self.capacity, str):\n",
    "            print(\"Cannot do that here...\")\n",
    "        else:\n",
    "            self.capacity += changed_cap\n",
    "        \n",
    "        \n",
    "pacsun = ShoppingBag(2,10,[])\n",
    "pacsun.changeCapacity(25)\n",
    "pacsun.increaseCapacity()\n",
    "pacsun.showCapacity()"
   ]
  },
  {
   "cell_type": "markdown",
   "metadata": {},
   "source": [
    "##### Calling"
   ]
  },
  {
   "cell_type": "code",
   "execution_count": 59,
   "metadata": {},
   "outputs": [
    {
     "name": "stdout",
     "output_type": "stream",
     "text": [
      "What do you want to do? add/show/quitadd\n",
      "What would you like to add? apple\n",
      "Success!  Here is your new bag: ['apple']\n",
      "What do you want to do? add/show/quitadd\n",
      "What would you like to add? salad\n",
      "Success!  Here is your new bag: ['apple', 'salad']\n",
      "What do you want to do? add/show/quitadd\n",
      "What would you like to add? berries\n",
      "Success!  Here is your new bag: ['apple', 'salad', 'berries']\n",
      "What do you want to do? add/show/quitshow\n",
      "Here are the items in your bag...\n",
      "apple\n",
      "salad\n",
      "berries\n",
      "What do you want to do? add/show/quitquit\n",
      "Here are the items in your bag...\n",
      "apple\n",
      "salad\n",
      "berries\n",
      "Thanks for shopping at Whole Foods!\n"
     ]
    }
   ],
   "source": [
    "# See Above\n",
    "\n",
    "# Create a new instance of ShoppingBag\n",
    "whole_foods = ShoppingBag(2,10,[])\n",
    "\n",
    "def run():\n",
    "    while True:\n",
    "        response = input(\"What do you want to do? add/show/quit\")\n",
    "        \n",
    "        if response.lower() == 'quit':\n",
    "            whole_foods.showShoppingBag()\n",
    "            print(\"Thanks for shopping at Whole Foods!\")\n",
    "            break\n",
    "        elif response.lower() == 'add':\n",
    "            whole_foods.addToShoppingBag()\n",
    "        \n",
    "        elif response.lower() == 'show':\n",
    "            whole_foods.showShoppingBag()\n",
    "            \n",
    "        else:\n",
    "            print(\"Not a valid input -- please retry\")\n",
    "            \n",
    "run()"
   ]
  },
  {
   "cell_type": "markdown",
   "metadata": {},
   "source": [
    "##### Modifying an Attribute's Value Through a Method"
   ]
  },
  {
   "cell_type": "code",
   "execution_count": 61,
   "metadata": {},
   "outputs": [
    {
     "name": "stdout",
     "output_type": "stream",
     "text": [
      "Your current bag capacity is: 100\n",
      "Your current bag capacity is: 50\n"
     ]
    }
   ],
   "source": [
    "mcdonalds = ShoppingBag(2,100,[])\n",
    "mcdonalds.showCapacity()\n",
    "mcdonalds.changeCapacity(50)\n",
    "mcdonalds.showCapacity()"
   ]
  },
  {
   "cell_type": "markdown",
   "metadata": {},
   "source": [
    "##### Incrementing an Attribute's Value Through a Method"
   ]
  },
  {
   "cell_type": "code",
   "execution_count": 62,
   "metadata": {},
   "outputs": [
    {
     "name": "stdout",
     "output_type": "stream",
     "text": [
      "Your current bag capacity is: 60\n"
     ]
    }
   ],
   "source": [
    "mcdonalds.increaseCapacity()\n",
    "mcdonalds.showCapacity()"
   ]
  },
  {
   "cell_type": "markdown",
   "metadata": {},
   "source": [
    "##### In-Class Exercise #3 - Add a method that takes in three parameters of year, doors and seats and prints out a formatted print statement with make, model, year, seats, and doors"
   ]
  },
  {
   "cell_type": "code",
   "execution_count": 64,
   "metadata": {},
   "outputs": [
    {
     "name": "stdout",
     "output_type": "stream",
     "text": [
      "This Ford Explorer was made in 2021, and has 4 doors and 8 seats.\n"
     ]
    }
   ],
   "source": [
    "# Create class with 2 paramters inside of the __init__ which are make and model\n",
    "# Inside of the Car class create a method that has 4 parameter in total (self,year,door,seats)\n",
    "# Output: This car is from 2019 and is a Ford Expolorer and has 4 doors and 5 seats\n",
    "\n",
    "class carShow():\n",
    "    def __init__(self, make, model):\n",
    "        self.make=make\n",
    "        self.model=model\n",
    "    \n",
    "    def carFeatures(self, year, door, seats):\n",
    "        print(f\"This {self.make} {self.model} was made in {year}, and has {door} doors and {seats} seats.\")\n",
    "\n",
    "explorer = carShow(\"Ford\", \"Explorer\")\n",
    "explorer.carFeatures(\"2021\", \"4\", \"8\")\n",
    "\n"
   ]
  },
  {
   "cell_type": "markdown",
   "metadata": {},
   "source": [
    "## Inheritance <br>\n",
    "<p>You can create a child-parent relationship between two classes by using inheritance. What this allows you to do is have overriding methods, but also inherit traits from the parent class. Think of it as an actual parent and child, the child will inherit the parent's genes, as will the classes in OOP</p>"
   ]
  },
  {
   "cell_type": "markdown",
   "metadata": {},
   "source": [
    "##### Syntax for Inheriting from a Parent Class"
   ]
  },
  {
   "cell_type": "code",
   "execution_count": 74,
   "metadata": {},
   "outputs": [
    {
     "name": "stdout",
     "output_type": "stream",
     "text": [
      "Bark\n"
     ]
    },
    {
     "data": {
      "text/plain": [
       "'Blue'"
      ]
     },
     "execution_count": 74,
     "metadata": {},
     "output_type": "execute_result"
    }
   ],
   "source": [
    "# Creation of our Parent Class --- Animal\n",
    "\n",
    "class Animal:\n",
    "    def __init__(self, name, species, legs = 4):\n",
    "        self.name = name\n",
    "        self.species = species\n",
    "        self.legs = legs\n",
    "    # Generic Parent (Animal) Method -- no override yet\n",
    "    def makeSound(self):\n",
    "        print(\"Make Some Generic Sound\")\n",
    "        \n",
    "# Child class\n",
    "class Dog(Animal):\n",
    "    speed = 15\n",
    "    \n",
    "    def printInfo(self):\n",
    "        print(f\"This Dog has a speed of {self.speed} and his name is {self.name}.\")\n",
    "    \n",
    "    # OVERRIDING the makeSound() method\n",
    "    def makeSound(self):\n",
    "        noise = \"Bark\"\n",
    "        print(noise)\n",
    "    \n",
    "griffin = Dog(\"Griffin\", \"Labrador Retriever\")\n",
    "\n",
    "griffin.makeSound()\n",
    "\n",
    "# Grandchild class\n",
    "class Mutt(Dog):\n",
    "    def __init__(self, name, species, eye_color, legs=4):\n",
    "        Dog.__init__(self, name, species, legs)\n",
    "        self.eye_color = eye_color\n",
    "        \n",
    "\n",
    "hank = Mutt(\"Hank\", \"Mutt\", \"Blue\")\n",
    "hank.eye_color"
   ]
  },
  {
   "cell_type": "markdown",
   "metadata": {},
   "source": [
    "##### The \\__init\\__() Method for a Child Class - super()"
   ]
  },
  {
   "cell_type": "code",
   "execution_count": 76,
   "metadata": {
    "scrolled": true
   },
   "outputs": [
    {
     "data": {
      "text/plain": [
       "<__main__.Yorkie at 0x1fe727aa820>"
      ]
     },
     "execution_count": 76,
     "metadata": {},
     "output_type": "execute_result"
    }
   ],
   "source": [
    "class Yorkie(Dog):\n",
    "    def __init__(self, name, species, eye_color, legs=4):\n",
    "        super().__init__(name, species, legs)\n",
    "        self.eye_color = eye_color\n",
    "\n",
    "Austin = Yorkie(\"austin\", \"yorkie\", \"brown\", 3)\n",
    "\n",
    "Austin"
   ]
  },
  {
   "cell_type": "markdown",
   "metadata": {},
   "source": [
    "##### Defining Attributes and Methods for the Child Class"
   ]
  },
  {
   "cell_type": "code",
   "execution_count": null,
   "metadata": {},
   "outputs": [],
   "source": [
    "# See Above"
   ]
  },
  {
   "cell_type": "markdown",
   "metadata": {},
   "source": [
    "##### Method Overriding"
   ]
  },
  {
   "cell_type": "code",
   "execution_count": null,
   "metadata": {},
   "outputs": [],
   "source": [
    "# See Above"
   ]
  },
  {
   "cell_type": "markdown",
   "metadata": {},
   "source": [
    "## Classes as Attributes <br>\n",
    "<p>Classes can also be used as attributes within another class. This is useful in situations where you need to keep variables locally stored, instead of globally stored.</p>"
   ]
  },
  {
   "cell_type": "code",
   "execution_count": 80,
   "metadata": {},
   "outputs": [
    {
     "data": {
      "text/plain": [
       "7.8"
      ]
     },
     "execution_count": 80,
     "metadata": {},
     "output_type": "execute_result"
    }
   ],
   "source": [
    "class Battery:\n",
    "    volts = 7.8\n",
    "    \n",
    "    def __init__(self, cells):\n",
    "        self.cells = cells\n",
    "        \n",
    "class Car:\n",
    "    def __init__(self, make, battery):\n",
    "        self.make = make\n",
    "        self.battery = battery\n",
    "        \n",
    "        \n",
    "batt = Battery(16)\n",
    "\n",
    "\n",
    "tesla = Car(\"tesla\", batt)\n",
    "\n",
    "tesla.battery.volts"
   ]
  },
  {
   "cell_type": "markdown",
   "metadata": {},
   "source": [
    "# Exercises"
   ]
  },
  {
   "cell_type": "markdown",
   "metadata": {},
   "source": [
    "### Exercise 1 - Turn the shopping cart program from yesterday into an object-oriented program\n",
    "\n",
    "The comments in the cell below are there as a guide for thinking about the problem. However, if you feel a different way is best for you and your own thought process, please do what feels best for you by all means."
   ]
  },
  {
   "cell_type": "code",
   "execution_count": 9,
   "metadata": {},
   "outputs": [
    {
     "name": "stdout",
     "output_type": "stream",
     "text": [
      "Your cart is empty, feel free to leave a tip anyways!\n"
     ]
    }
   ],
   "source": [
    "# Create a class called cart that retains items and has methods to add, remove, and show\n",
    "\n",
    "from IPython.display import clear_output\n",
    "\n",
    "class shopperCart():\n",
    "    \"\"\"\n",
    "        shopperCart Class will have items for the shopping cart\n",
    "        and note for any added instructions for the person doing the shopping.\n",
    "        \n",
    "        Attributes for Class:\n",
    "        - items: expected to be a list\n",
    "        - note: expected to be a string\n",
    "    \"\"\"\n",
    "    # __init__()\n",
    "    def __init__(self, items, note):\n",
    "        self.items = items\n",
    "        self.note = note\n",
    "    \n",
    "    # method to add items\n",
    "    def addItems(self):\n",
    "        product = input(\"What item would you like to add? \")\n",
    "        self.items.append(product)\n",
    "        print(f\"Great, we just added {product} to your cart.\")\n",
    "        \n",
    "    # method to remove items\n",
    "    def removeItems(self):\n",
    "        if not self.items:\n",
    "            print(\"Your cart is empty!  Please add something first.\")\n",
    "        else:\n",
    "            product = input(\"What item would you like to remove?\")\n",
    "            if product in self.items:\n",
    "                self.items.remove(product)\n",
    "                print(f\"No problem.  We removed {product} from your cart.\")\n",
    "            else:\n",
    "                print(\"Sorry, we don't see that item in your cart.\")\n",
    "        \n",
    "    # method to show items\n",
    "    def showCart(self):\n",
    "        print(\"Here's how your cart looks right now:\")\n",
    "        for item in self.items:\n",
    "            print(item)\n",
    "            \n",
    "    # method to exit/checkout\n",
    "    def checkout(self):\n",
    "        if self.items:\n",
    "            note = input(\"Any special instructions for this cart? type no if not \")\n",
    "            print(\"Here is your final cart, thanks for shopping with us!\")\n",
    "            for item in self.items:\n",
    "                print(item)\n",
    "            if note.lower() != \"no\":\n",
    "                print(f\"Special instructions: {note}\")\n",
    "        else:\n",
    "            print(\"Your cart is empty, feel free to leave a tip anyways!\")\n",
    "        \n",
    "            \n",
    "\n",
    "# def runCart() to import methods from Cart()\n",
    "def runShopperCart():\n",
    "    print(\"Hello! Welcome to your Shopping Cart.\")\n",
    "    while True:\n",
    "        user_action = input(\"What would you like to do? add/remove/show/checkout\")\n",
    "        clear_output()    \n",
    "    # if 'quit' action...\n",
    "        if user_action.lower() == \"checkout\":\n",
    "            grocery.checkout()\n",
    "            break\n",
    "    # elif 'add' action (import add method)\n",
    "        elif user_action.lower() == \"add\":\n",
    "            grocery.addItems()\n",
    "    # elif 'remove' action (import remove method)\n",
    "        elif user_action.lower() == \"remove\":\n",
    "            grocery.removeItems()\n",
    "    # elif 'show' action (import show method)\n",
    "        elif user_action.lower() == \"show\":\n",
    "            grocery.showCart()\n",
    "    # else error message for invalid input\n",
    "        else:\n",
    "            print(\"Sorry, that input doesn't work.  Please try again.\")\n",
    "\n",
    "            \n",
    "# Instantiate Cart() class\n",
    "grocery = shopperCart([],\"\")\n",
    "\n",
    "# Call\n",
    "runShopperCart()"
   ]
  },
  {
   "cell_type": "markdown",
   "metadata": {},
   "source": [
    "### Exercise 2 - Write a Python class which has two methods get_String and print_String. get_String accept a string from the user and print_String print the string in upper case"
   ]
  },
  {
   "cell_type": "code",
   "execution_count": 10,
   "metadata": {},
   "outputs": [
    {
     "name": "stdout",
     "output_type": "stream",
     "text": [
      "Give me your string, and I will change it: hello, there!\n",
      "HELLO, THERE!\n"
     ]
    }
   ],
   "source": [
    "# create class w/methods\n",
    "class stringHandoff:\n",
    "    \"\"\"\n",
    "    stringHandoff Class will have one attribute, string.\n",
    "    - string: expected to be a string.\n",
    "    \"\"\"\n",
    "    def __init__(self, string):\n",
    "        self.string = string\n",
    "        \n",
    "    def get_String(self):\n",
    "        self.string = input(\"Give me your string, and I will change it: \")\n",
    "        \n",
    "    def print_String(self):\n",
    "        print(self.string.upper())\n",
    "\n",
    "# instantiate class\n",
    "stringUpper = stringHandoff(\"\")\n",
    "\n",
    "# def funct to carry class instantiation\n",
    "def stringRun():\n",
    "    stringUpper.get_String()\n",
    "    stringUpper.print_String()\n",
    "\n",
    "# call funct\n",
    "stringRun()"
   ]
  },
  {
   "cell_type": "code",
   "execution_count": null,
   "metadata": {},
   "outputs": [],
   "source": []
  }
 ],
 "metadata": {
  "kernelspec": {
   "display_name": "Python 3",
   "language": "python",
   "name": "python3"
  },
  "language_info": {
   "codemirror_mode": {
    "name": "ipython",
    "version": 3
   },
   "file_extension": ".py",
   "mimetype": "text/x-python",
   "name": "python",
   "nbconvert_exporter": "python",
   "pygments_lexer": "ipython3",
   "version": "3.8.8"
  }
 },
 "nbformat": 4,
 "nbformat_minor": 2
}
